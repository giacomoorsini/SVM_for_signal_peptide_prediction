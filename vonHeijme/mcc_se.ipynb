{
 "cells": [
  {
   "cell_type": "code",
   "execution_count": 1,
   "metadata": {},
   "outputs": [],
   "source": [
    "import pandas as pd\n",
    "import numpy as np"
   ]
  },
  {
   "cell_type": "code",
   "execution_count": 2,
   "metadata": {},
   "outputs": [],
   "source": [
    "df = pd.read_table('training_predictions.tsv', sep='\\t')"
   ]
  },
  {
   "cell_type": "code",
   "execution_count": 3,
   "metadata": {},
   "outputs": [
    {
     "data": {
      "text/html": [
       "<div>\n",
       "<style scoped>\n",
       "    .dataframe tbody tr th:only-of-type {\n",
       "        vertical-align: middle;\n",
       "    }\n",
       "\n",
       "    .dataframe tbody tr th {\n",
       "        vertical-align: top;\n",
       "    }\n",
       "\n",
       "    .dataframe thead th {\n",
       "        text-align: right;\n",
       "    }\n",
       "</style>\n",
       "<table border=\"1\" class=\"dataframe\">\n",
       "  <thead>\n",
       "    <tr style=\"text-align: right;\">\n",
       "      <th></th>\n",
       "      <th>Run</th>\n",
       "      <th>Threshold</th>\n",
       "      <th>Precision</th>\n",
       "      <th>Recall</th>\n",
       "      <th>F1</th>\n",
       "      <th>ACC</th>\n",
       "      <th>MCC</th>\n",
       "      <th>AUC</th>\n",
       "      <th>TN</th>\n",
       "      <th>FP</th>\n",
       "      <th>FN</th>\n",
       "      <th>TP</th>\n",
       "    </tr>\n",
       "  </thead>\n",
       "  <tbody>\n",
       "    <tr>\n",
       "      <th>0</th>\n",
       "      <td>CV0.txt</td>\n",
       "      <td>6.085</td>\n",
       "      <td>0.670</td>\n",
       "      <td>0.747</td>\n",
       "      <td>0.742</td>\n",
       "      <td>0.936</td>\n",
       "      <td>0.672</td>\n",
       "      <td>0.964</td>\n",
       "      <td>1460</td>\n",
       "      <td>64</td>\n",
       "      <td>44</td>\n",
       "      <td>130</td>\n",
       "    </tr>\n",
       "    <tr>\n",
       "      <th>1</th>\n",
       "      <td>CV1.txt</td>\n",
       "      <td>5.816</td>\n",
       "      <td>0.629</td>\n",
       "      <td>0.754</td>\n",
       "      <td>0.694</td>\n",
       "      <td>0.929</td>\n",
       "      <td>0.649</td>\n",
       "      <td>0.955</td>\n",
       "      <td>1446</td>\n",
       "      <td>78</td>\n",
       "      <td>43</td>\n",
       "      <td>132</td>\n",
       "    </tr>\n",
       "    <tr>\n",
       "      <th>2</th>\n",
       "      <td>CV2.txt</td>\n",
       "      <td>6.398</td>\n",
       "      <td>0.665</td>\n",
       "      <td>0.726</td>\n",
       "      <td>0.707</td>\n",
       "      <td>0.934</td>\n",
       "      <td>0.658</td>\n",
       "      <td>0.955</td>\n",
       "      <td>1460</td>\n",
       "      <td>64</td>\n",
       "      <td>48</td>\n",
       "      <td>127</td>\n",
       "    </tr>\n",
       "    <tr>\n",
       "      <th>3</th>\n",
       "      <td>CV3.txt</td>\n",
       "      <td>6.554</td>\n",
       "      <td>0.783</td>\n",
       "      <td>0.720</td>\n",
       "      <td>0.757</td>\n",
       "      <td>0.951</td>\n",
       "      <td>0.723</td>\n",
       "      <td>0.954</td>\n",
       "      <td>1489</td>\n",
       "      <td>35</td>\n",
       "      <td>49</td>\n",
       "      <td>126</td>\n",
       "    </tr>\n",
       "    <tr>\n",
       "      <th>4</th>\n",
       "      <td>CV4.txt</td>\n",
       "      <td>6.376</td>\n",
       "      <td>0.733</td>\n",
       "      <td>0.720</td>\n",
       "      <td>0.731</td>\n",
       "      <td>0.944</td>\n",
       "      <td>0.695</td>\n",
       "      <td>0.967</td>\n",
       "      <td>1476</td>\n",
       "      <td>46</td>\n",
       "      <td>49</td>\n",
       "      <td>126</td>\n",
       "    </tr>\n",
       "  </tbody>\n",
       "</table>\n",
       "</div>"
      ],
      "text/plain": [
       "       Run  Threshold  Precision  Recall     F1    ACC    MCC    AUC    TN  \\\n",
       "0  CV0.txt      6.085      0.670   0.747  0.742  0.936  0.672  0.964  1460   \n",
       "1  CV1.txt      5.816      0.629   0.754  0.694  0.929  0.649  0.955  1446   \n",
       "2  CV2.txt      6.398      0.665   0.726  0.707  0.934  0.658  0.955  1460   \n",
       "3  CV3.txt      6.554      0.783   0.720  0.757  0.951  0.723  0.954  1489   \n",
       "4  CV4.txt      6.376      0.733   0.720  0.731  0.944  0.695  0.967  1476   \n",
       "\n",
       "   FP  FN   TP  \n",
       "0  64  44  130  \n",
       "1  78  43  132  \n",
       "2  64  48  127  \n",
       "3  35  49  126  \n",
       "4  46  49  126  "
      ]
     },
     "execution_count": 3,
     "metadata": {},
     "output_type": "execute_result"
    }
   ],
   "source": [
    "df"
   ]
  },
  {
   "cell_type": "code",
   "execution_count": 4,
   "metadata": {},
   "outputs": [
    {
     "data": {
      "text/plain": [
       "'0.679±0.013'"
      ]
     },
     "execution_count": 4,
     "metadata": {},
     "output_type": "execute_result"
    }
   ],
   "source": [
    "MCC=df[\"MCC\"].mean()\n",
    "\n",
    "se = np.std(df[\"MCC\"], ddof=1) / np.sqrt(np.size(df[\"MCC\"]))\n",
    "MCC_se = '%s\\u00B1%s'%(np.round(MCC,3),np.round(se,3))\n",
    "MCC_se"
   ]
  }
 ],
 "metadata": {
  "kernelspec": {
   "display_name": "lb2",
   "language": "python",
   "name": "python3"
  },
  "language_info": {
   "codemirror_mode": {
    "name": "ipython",
    "version": 3
   },
   "file_extension": ".py",
   "mimetype": "text/x-python",
   "name": "python",
   "nbconvert_exporter": "python",
   "pygments_lexer": "ipython3",
   "version": "3.8.17"
  },
  "orig_nbformat": 4
 },
 "nbformat": 4,
 "nbformat_minor": 2
}
