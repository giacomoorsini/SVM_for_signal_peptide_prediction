{
 "cells": [
  {
   "cell_type": "code",
   "execution_count": null,
   "metadata": {},
   "outputs": [
    {
     "ename": "",
     "evalue": "",
     "output_type": "error",
     "traceback": [
      "\u001b[1;31mRunning cells with 'lb2' requires the ipykernel package.\n",
      "\u001b[1;31mRun the following command to install 'ipykernel' into the Python environment. \n",
      "\u001b[1;31mCommand: 'conda install -n lb2 ipykernel --update-deps --force-reinstall'"
     ]
    }
   ],
   "source": [
    "import pandas as pd\n",
    "import os\n",
    "import numpy as np"
   ]
  },
  {
   "cell_type": "code",
   "execution_count": 38,
   "metadata": {},
   "outputs": [],
   "source": [
    "directory=\"./models/\"\n",
    "models=os.listdir(directory)"
   ]
  },
  {
   "cell_type": "code",
   "execution_count": 42,
   "metadata": {},
   "outputs": [
    {
     "data": {
      "text/html": [
       "<div>\n",
       "<style scoped>\n",
       "    .dataframe tbody tr th:only-of-type {\n",
       "        vertical-align: middle;\n",
       "    }\n",
       "\n",
       "    .dataframe tbody tr th {\n",
       "        vertical-align: top;\n",
       "    }\n",
       "\n",
       "    .dataframe thead th {\n",
       "        text-align: right;\n",
       "    }\n",
       "</style>\n",
       "<table border=\"1\" class=\"dataframe\">\n",
       "  <thead>\n",
       "    <tr style=\"text-align: right;\">\n",
       "      <th></th>\n",
       "      <th>avarage MCC</th>\n",
       "      <th>standard error</th>\n",
       "      <th>K</th>\n",
       "      <th>y</th>\n",
       "      <th>C</th>\n",
       "    </tr>\n",
       "    <tr>\n",
       "      <th>model</th>\n",
       "      <th></th>\n",
       "      <th></th>\n",
       "      <th></th>\n",
       "      <th></th>\n",
       "      <th></th>\n",
       "    </tr>\n",
       "  </thead>\n",
       "  <tbody>\n",
       "    <tr>\n",
       "      <th>HP_CH_AH_C</th>\n",
       "      <td>0.8086</td>\n",
       "      <td>0.809±0.011</td>\n",
       "      <td>23</td>\n",
       "      <td>scale</td>\n",
       "      <td>8</td>\n",
       "    </tr>\n",
       "    <tr>\n",
       "      <th>HP_CH_C</th>\n",
       "      <td>0.8102</td>\n",
       "      <td>0.81±0.009</td>\n",
       "      <td>23</td>\n",
       "      <td>1</td>\n",
       "      <td>4</td>\n",
       "    </tr>\n",
       "    <tr>\n",
       "      <th>HP_C</th>\n",
       "      <td>0.8086</td>\n",
       "      <td>0.809±0.01</td>\n",
       "      <td>22</td>\n",
       "      <td>2</td>\n",
       "      <td>4</td>\n",
       "    </tr>\n",
       "    <tr>\n",
       "      <th>HP_AH_C</th>\n",
       "      <td>0.8028</td>\n",
       "      <td>0.803±0.009</td>\n",
       "      <td>23</td>\n",
       "      <td>2</td>\n",
       "      <td>4</td>\n",
       "    </tr>\n",
       "    <tr>\n",
       "      <th>CH_AH_C</th>\n",
       "      <td>0.7954</td>\n",
       "      <td>0.795±0.007</td>\n",
       "      <td>20</td>\n",
       "      <td>2</td>\n",
       "      <td>8</td>\n",
       "    </tr>\n",
       "    <tr>\n",
       "      <th>_C</th>\n",
       "      <td>0.7598</td>\n",
       "      <td>0.76±0.017</td>\n",
       "      <td>20</td>\n",
       "      <td>2</td>\n",
       "      <td>2</td>\n",
       "    </tr>\n",
       "    <tr>\n",
       "      <th>CH_C</th>\n",
       "      <td>0.7816</td>\n",
       "      <td>0.782±0.011</td>\n",
       "      <td>20</td>\n",
       "      <td>1.0</td>\n",
       "      <td>8</td>\n",
       "    </tr>\n",
       "    <tr>\n",
       "      <th>AH_C</th>\n",
       "      <td>0.7758</td>\n",
       "      <td>0.776±0.011</td>\n",
       "      <td>20</td>\n",
       "      <td>1</td>\n",
       "      <td>8</td>\n",
       "    </tr>\n",
       "  </tbody>\n",
       "</table>\n",
       "</div>"
      ],
      "text/plain": [
       "            avarage MCC standard error   K      y  C\n",
       "model                                               \n",
       "HP_CH_AH_C       0.8086    0.809±0.011  23  scale  8\n",
       "HP_CH_C          0.8102     0.81±0.009  23      1  4\n",
       "HP_C             0.8086     0.809±0.01  22      2  4\n",
       "HP_AH_C          0.8028    0.803±0.009  23      2  4\n",
       "CH_AH_C          0.7954    0.795±0.007  20      2  8\n",
       "_C               0.7598     0.76±0.017  20      2  2\n",
       "CH_C             0.7816    0.782±0.011  20    1.0  8\n",
       "AH_C             0.7758    0.776±0.011  20      1  8"
      ]
     },
     "execution_count": 42,
     "metadata": {},
     "output_type": "execute_result"
    }
   ],
   "source": [
    "headers=[\"model\",\"avarage MCC\",\"standard error\",\"K\",\"y\",\"C\"]\n",
    "models_evaluation_df=pd.DataFrame(columns=headers)\n",
    "\n",
    "for model in models:\n",
    "    index=models.index(model)\n",
    "    name=models[index]\n",
    "    \n",
    "    name=name.split(\".\")[0]\n",
    "    name=name.split(\"_m\")[0]\n",
    "    \n",
    "    df=pd.read_table(\"./models/%s\"%(model))\n",
    "    MCC=df[\"MCC test\"].mean()\n",
    "    se = np.std(df[\"MCC test\"], ddof=1) / np.sqrt(np.size(df[\"MCC test\"]))\n",
    "    MCC_se = '%s\\u00B1%s'%(np.round(MCC,3),np.round(se,3))\n",
    "    y=df[\"best y\"].value_counts().idxmax()\n",
    "    C=df[\"best C\"].value_counts().sort_index().idxmax()\n",
    "    \n",
    "    value_counts_k = df['best K'].value_counts().sort_index()\n",
    "    K = value_counts_k.idxmax()\n",
    "\n",
    "    if len(value_counts_k[value_counts_k == value_counts_k.max()]) > 1:\n",
    "        closest_value = min(value_counts_k[value_counts_k == value_counts_k.max()].index, key=lambda x: abs(x - 22))\n",
    "        K = closest_value\n",
    "    \n",
    "    row=[name,MCC,MCC_se,K,y,C]\n",
    "    models_evaluation_df.loc[len(models_evaluation_df)]=row\n",
    "\n",
    "#ADD ALSO VH\n",
    "models_evaluation_df.set_index('model', inplace=True)\n",
    "models_evaluation_df    "
   ]
  },
  {
   "cell_type": "code",
   "execution_count": 43,
   "metadata": {},
   "outputs": [
    {
     "name": "stdout",
     "output_type": "stream",
     "text": [
      "The best model is: HP_CH_C\n"
     ]
    }
   ],
   "source": [
    "models_evaluation_df.to_csv('./models/models_evaluation.tsv',sep='\\t')\n",
    "print(\"The best model is: \"+models_evaluation_df[\"avarage MCC\"].idxmax())"
   ]
  }
 ],
 "metadata": {
  "kernelspec": {
   "display_name": "lb2",
   "language": "python",
   "name": "python3"
  },
  "language_info": {
   "codemirror_mode": {
    "name": "ipython",
    "version": 3
   },
   "file_extension": ".py",
   "mimetype": "text/x-python",
   "name": "python",
   "nbconvert_exporter": "python",
   "pygments_lexer": "ipython3",
   "version": "3.11.5"
  }
 },
 "nbformat": 4,
 "nbformat_minor": 2
}
